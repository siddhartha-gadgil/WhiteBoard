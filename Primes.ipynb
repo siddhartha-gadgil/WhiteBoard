{
 "cells": [
  {
   "cell_type": "code",
   "execution_count": 1,
   "metadata": {},
   "outputs": [],
   "source": [
    "def is_prime(n, noisy = True): # we set \"noisy\" to False if we do not want output in between\n",
    "    no_divisors = True # to start with there are no divisors\n",
    "    for j in range(2, n):\n",
    "        if n % j == 0: # remainder 0, so j divide n\n",
    "            no_divisors = False\n",
    "            if noisy:\n",
    "                print(f\"{n} has factor {j} so is not a prime\")\n",
    "    return no_divisors"
   ]
  },
  {
   "cell_type": "code",
   "execution_count": 2,
   "metadata": {},
   "outputs": [
    {
     "name": "stdout",
     "output_type": "stream",
     "text": [
      "10 has factor 2 so is not a prime\n",
      "10 has factor 5 so is not a prime\n"
     ]
    },
    {
     "data": {
      "text/plain": [
       "False"
      ]
     },
     "execution_count": 2,
     "metadata": {},
     "output_type": "execute_result"
    }
   ],
   "source": [
    "is_prime(10)"
   ]
  },
  {
   "cell_type": "code",
   "execution_count": 3,
   "metadata": {},
   "outputs": [
    {
     "data": {
      "text/plain": [
       "True"
      ]
     },
     "execution_count": 3,
     "metadata": {},
     "output_type": "execute_result"
    }
   ],
   "source": [
    "is_prime(7)"
   ]
  },
  {
   "cell_type": "code",
   "execution_count": 4,
   "metadata": {},
   "outputs": [
    {
     "data": {
      "text/plain": [
       "False"
      ]
     },
     "execution_count": 4,
     "metadata": {},
     "output_type": "execute_result"
    }
   ],
   "source": [
    "is_prime(10, False)"
   ]
  },
  {
   "cell_type": "code",
   "execution_count": 5,
   "metadata": {},
   "outputs": [
    {
     "name": "stdout",
     "output_type": "stream",
     "text": [
      "10 is prime? False\n",
      "11 is prime? True\n",
      "12 is prime? False\n",
      "13 is prime? True\n",
      "14 is prime? False\n",
      "15 is prime? False\n",
      "16 is prime? False\n",
      "17 is prime? True\n",
      "18 is prime? False\n",
      "19 is prime? True\n",
      "20 is prime? False\n",
      "21 is prime? False\n",
      "22 is prime? False\n",
      "23 is prime? True\n",
      "24 is prime? False\n",
      "25 is prime? False\n",
      "26 is prime? False\n",
      "27 is prime? False\n",
      "28 is prime? False\n",
      "29 is prime? True\n"
     ]
    }
   ],
   "source": [
    "for i in range(10, 30):\n",
    "    print(i, \"is prime?\", is_prime(i, False))"
   ]
  },
  {
   "cell_type": "code",
   "execution_count": null,
   "metadata": {},
   "outputs": [],
   "source": []
  }
 ],
 "metadata": {
  "kernelspec": {
   "display_name": "Python 3",
   "language": "python",
   "name": "python3"
  },
  "language_info": {
   "codemirror_mode": {
    "name": "ipython",
    "version": 3
   },
   "file_extension": ".py",
   "mimetype": "text/x-python",
   "name": "python",
   "nbconvert_exporter": "python",
   "pygments_lexer": "ipython3",
   "version": "3.7.6"
  }
 },
 "nbformat": 4,
 "nbformat_minor": 4
}
